{
 "cells": [
  {
   "cell_type": "code",
   "execution_count": null,
   "id": "377f9de3-0113-478a-b5c9-18b676bb4fc6",
   "metadata": {},
   "outputs": [],
   "source": [
    "#Data Preparation\n",
    "\n",
    "\n",
    "import os\n",
    "from docx import Document\n",
    "import re\n",
    "\n",
    "def load_docx(file_path):\n",
    "    \"\"\"Load a .docx file and return the text.\"\"\"\n",
    "    doc = Document(file_path)\n",
    "    full_text = []\n",
    "    for para in doc.paragraphs:\n",
    "        full_text.append(para.text)\n",
    "    return \"\\n\".join(full_text)\n",
    "\n",
    "def clean_text(text):\n",
    "    \"\"\"Perform basic cleaning of the text.\"\"\"\n",
    "    # Remove any new lines and extra spaces\n",
    "    text = re.sub(r'\\s+', ' ', text)\n",
    "    return text\n",
    "\n",
    "# Define the paths to your .docx files\n",
    "file_paths = {\n",
    "    'Hindu': r'Insert file path here',\n",
    "    'Norse': r'Insert file path here',\n",
    "    'Greek': r'Insert file path here'\n",
    "\n",
    "# Load and clean texts\n",
    "texts = {}\n",
    "for mythology, path in file_paths.items():\n",
    "    raw_text = load_docx(path)\n",
    "    cleaned_text = clean_text(raw_text)\n",
    "    texts[mythology] = cleaned_text\n",
    "\n",
    "for mythology, text in texts.items():\n",
    "    print(f\"First 500 characters of {mythology} text:\\n{text[:1000]}\\n\")"
   ]
  }
 ],
 "metadata": {
  "kernelspec": {
   "display_name": "Python 3 (ipykernel)",
   "language": "python",
   "name": "python3"
  },
  "language_info": {
   "codemirror_mode": {
    "name": "ipython",
    "version": 3
   },
   "file_extension": ".py",
   "mimetype": "text/x-python",
   "name": "python",
   "nbconvert_exporter": "python",
   "pygments_lexer": "ipython3",
   "version": "3.11.5"
  }
 },
 "nbformat": 4,
 "nbformat_minor": 5
}
